{
 "cells": [
  {
   "cell_type": "markdown",
   "id": "23c2fc34",
   "metadata": {},
   "source": [
    "## NAME:GIWA MUBARAK OMOTOLANI\n",
    "## DEPARTMENT:COMPUTER ENGINEERING\n",
    "## MATRIC NO:EES/20/21/0191\n",
    "## LEVEL:300L"
   ]
  },
  {
   "cell_type": "markdown",
   "id": "65380f39",
   "metadata": {},
   "source": [
    "### ASSIGNMENT 1\n",
    "\n",
    "### create a function that can calculate BMI function.\n",
    "\n",
    "####   SOLUTION\n",
    "##### Body mass index (BMI) tells you if your weight matches your height. With the BMI calculator you can quickly find out if your weight is in the normal range or if you are too heavy or too light. Depending on the outcome, this may have an impact on your health.\n",
    "\n",
    "#### FORMULA FOR CALCULATING BMI = WEIGHT/(HEIGHT^2)\n",
    "\n",
    "\n",
    "\n"
   ]
  },
  {
   "cell_type": "markdown",
   "id": "e69a0f7f",
   "metadata": {},
   "source": [
    "##### Define bmi in the global scope"
   ]
  },
  {
   "cell_type": "code",
   "execution_count": 1,
   "id": "c4446bd5",
   "metadata": {},
   "outputs": [],
   "source": [
    "bmi = 0\n"
   ]
  },
  {
   "cell_type": "code",
   "execution_count": 2,
   "id": "e35e34e0",
   "metadata": {},
   "outputs": [],
   "source": [
    "def BMIVALUE(weight_kg,height_m):\n",
    "    weight_kg = float(input(\"Enter your weight in kilograms: \"))\n",
    "    height_m = float(input(\"Enter your height in meters: \"))\n",
    "    bmi = weight_kg /(height_m**2)\n",
    "    return f\"Your BMI is: {bmi:.2f}\"\n"
   ]
  },
  {
   "cell_type": "code",
   "execution_count": null,
   "id": "8ae140b4",
   "metadata": {},
   "outputs": [],
   "source": [
    "new_bmi = print(BMIVALUE(0,0))"
   ]
  },
  {
   "cell_type": "code",
   "execution_count": null,
   "id": "7256a64c",
   "metadata": {},
   "outputs": [],
   "source": []
  },
  {
   "cell_type": "code",
   "execution_count": null,
   "id": "9fb421aa",
   "metadata": {},
   "outputs": [],
   "source": []
  },
  {
   "cell_type": "code",
   "execution_count": null,
   "id": "9ca24e0d",
   "metadata": {},
   "outputs": [],
   "source": []
  }
 ],
 "metadata": {
  "kernelspec": {
   "display_name": "Python 3 (ipykernel)",
   "language": "python",
   "name": "python3"
  },
  "language_info": {
   "codemirror_mode": {
    "name": "ipython",
    "version": 3
   },
   "file_extension": ".py",
   "mimetype": "text/x-python",
   "name": "python",
   "nbconvert_exporter": "python",
   "pygments_lexer": "ipython3",
   "version": "3.9.13"
  }
 },
 "nbformat": 4,
 "nbformat_minor": 5
}
